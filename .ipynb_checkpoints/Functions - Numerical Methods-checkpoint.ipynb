{
 "cells": [
  {
   "cell_type": "code",
   "execution_count": null,
   "metadata": {
    "id": "iwI7GfcIWXq1"
   },
   "outputs": [],
   "source": [
    "import numpy as np\n",
    "import math\n",
    "from matplotlib import pyplot as plt\n"
   ]
  },
  {
   "cell_type": "markdown",
   "metadata": {
    "id": "GTk4gxS2YLT7"
   },
   "source": [
    "# GAUSS ELIMATION #"
   ]
  },
  {
   "cell_type": "code",
   "execution_count": null,
   "metadata": {
    "colab": {
     "base_uri": "https://localhost:8080/"
    },
    "id": "0aY9JUVoWjK_",
    "outputId": "60080112-26a4-4a2e-e227-704367e2df1e"
   },
   "outputs": [
    {
     "name": "stdout",
     "output_type": "stream",
     "text": [
      "Upper Triangular Matrix is \n",
      " [[ 2.          3.          4.        ]\n",
      " [ 0.         -4.5         2.        ]\n",
      " [ 0.          0.         -9.44444444]] \n",
      "\n",
      "Updated B Matrix is  [ 5.          3.5        -9.77777778] \n",
      "\n",
      "The solution is  [ 0.90588235 -0.31764706  1.03529412]\n"
     ]
    }
   ],
   "source": [
    "def gaussElimation(arr, b_arr):\n",
    "\n",
    "  n = len(b_arr) # no. of unknowns\n",
    "\n",
    "  x = np.zeros(n, float) #to which the answers will be updated.\n",
    "\n",
    "  for k in range(n-1):\n",
    "    for i in range(k +1, n): #looping over rows\n",
    "      div_frac = arr[i ,k] / arr[k, k] #division factor\n",
    "      for j in range(k,n): #looping over the columns\n",
    "        arr[i, j] = arr[i, j] - arr[k, j] * div_frac #modifying the A matrix.\n",
    "      b_arr[i] = b_arr[i] - b_arr[k] * div_frac # modifying the b matrix\n",
    "\n",
    "  print(\"Upper Triangular Matrix is \\n\",arr, \"\\n\")\n",
    "  print(\"Updated B Matrix is \", b_arr, \"\\n\")  \n",
    "\n",
    "  x[n-1] = b_arr[n-1] / arr[n-1, n-1] #backward sub, the first variable.\n",
    "\n",
    "  for i in range(n-2, -1, -1): \n",
    "# (n-2) because we need the last but one row and that when zero indentation is used becomes n-2,\n",
    "#-1 then is used because, range function would stop on the second row, to make it include the first row as well. would stop at 1, so -1 (1+(-1) = 0)\n",
    "# then -1 step is used because decreasing.\n",
    "    contri = 0\n",
    "    for j in range(i+1, n):\n",
    "      contri += arr[i, j] * x[j] #sum of the prev coeff*variable val\n",
    "    x[i] = (b_arr[i] - contri) / arr[i, i] #finding out the variable using the prev. variables.\n",
    "\n",
    "  print(\"The solution is \", x)\n",
    "\n",
    "a = np.array([[2, 3, 4],\n",
    "                [1, -3, 4],\n",
    "                [3, -1, -1]], float)\n",
    "b = lu_b_arr =  np.array([5,6,2], float)\n",
    "\n",
    "\n",
    "gaussElimation(a, b)"
   ]
  },
  {
   "cell_type": "markdown",
   "metadata": {
    "id": "1pOp9XyPYQ66"
   },
   "source": [
    "# LU DECOMPOSITION #"
   ]
  },
  {
   "cell_type": "code",
   "execution_count": null,
   "metadata": {
    "colab": {
     "base_uri": "https://localhost:8080/"
    },
    "id": "2w6m8plPYFoC",
    "outputId": "33d17881-44df-468c-d68e-a9e7263aa84a"
   },
   "outputs": [
    {
     "name": "stdout",
     "output_type": "stream",
     "text": [
      "Upper Triangular Matris is \n",
      " [[ 2.          3.          4.        ]\n",
      " [ 0.         -4.5         2.        ]\n",
      " [ 0.          0.         -9.44444444]] \n",
      "\n",
      "Updated B is  [ 5.          3.5        -9.77777778] \n",
      "\n",
      "Lower Triangular Matrix is \n",
      " [[1.         0.         0.        ]\n",
      " [0.5        1.         0.        ]\n",
      " [1.5        1.22222222 1.        ]] \n",
      "\n",
      "Original B is  [5. 6. 2.] \n",
      "\n",
      "The Z Matrix is  [ 5.          3.5        -9.77777778] \n",
      "\n",
      "The solution is  [ 0.90588235 -0.31764706  1.03529412]\n"
     ]
    }
   ],
   "source": [
    "'''\n",
    "A = LU\n",
    "Ax = b\n",
    "LUx = b\n",
    "Ux = z\n",
    "Lz = b\n",
    "'''\n",
    "\n",
    "def luDecomp(lu_arr, lu_b_arr):\n",
    "  lu_b_arr_1 = np.copy(lu_b_arr)\n",
    "  lu_n = len(lu_b_arr)\n",
    "\n",
    "  lu_l = np.eye(lu_n) # identity matrix.\n",
    "  lu_x = np.zeros(lu_n, float) #will be used to append x values later on.\n",
    "  lu_z = np.zeros(lu_n, float)\n",
    "\n",
    "  for k in range((lu_n)-1):  # (n-1) is the last zero because of the zero indentation.\n",
    "    for i in range(k + 1, lu_n): #looping over the rows\n",
    "      lu_div_frac = lu_arr[i ,k] / lu_arr[k, k]\n",
    "      for j in range(k,lu_n): #looping over the columns \n",
    "        lu_arr[i, j] = lu_arr[i, j] - lu_arr[k, j] * lu_div_frac #modifying the A matrix  \n",
    "      lu_b_arr_1[i] = lu_b_arr_1[i] - lu_b_arr_1[k] * lu_div_frac #modifying the rhs (b matrix)\n",
    "\n",
    "      lu_l[i, k] = lu_div_frac #modifying the identity matrix with the divison factor\n",
    "\n",
    "  print(\"Upper Triangular Matris is \\n\", lu_arr,\"\\n\")\n",
    "  print(\"Updated B is \", lu_b_arr_1,\"\\n\")\n",
    "  print(\"Lower Triangular Matrix is \\n\", lu_l, \"\\n\")\n",
    "  print(\"Original B is \", lu_b_arr,\"\\n\")\n",
    "\n",
    "#forward substituition\n",
    "\n",
    "  lu_z[0] = lu_b_arr[0] / lu_l[0, 0] #original b has to be used, not updated \n",
    "  for i in range(1, lu_n):\n",
    "    contri = 0\n",
    "    for j in range(0, len(lu_z)):\n",
    "      contri += lu_l[i, j] * lu_z[j]\n",
    "    lu_z[i] = (lu_b_arr[i] - contri) / lu_l[i, i]\n",
    "\n",
    "  print(\"The Z Matrix is \", lu_z, \"\\n\")\n",
    "\n",
    "#backward substituition\n",
    "\n",
    "  lu_x[lu_n - 1] = lu_z[lu_n-1] / lu_arr[lu_n-1, lu_n-1]\n",
    "\n",
    "  for i in range((len(lu_z))-2, -1, -1): \n",
    "# (n-2) because we need the last but one row and that when zero indentation is used becomes n-2,\n",
    "#-1 then is used because, range function would stop on the second row, to make it include the first row as well. would stop at 1, so -1 (1+(-1) = 0)\n",
    "# then -1 step is used because decreasing.\n",
    "    contri = 0\n",
    "    for j in range(i+1, len(lu_z)):\n",
    "      contri += lu_arr[i, j] * lu_x[j] #sum of the prev coeff*variable val\n",
    "    lu_x[i] = (lu_z[i] - contri) / lu_arr[i, i] #finding out the variable using the prev. variables.\n",
    "\n",
    "  print(\"The solution is \",lu_x)\n",
    "\n",
    "\n",
    "a = np.array([[2, 3, 4],\n",
    "                [1, -3, 4],\n",
    "                [3, -1, -1]], float)\n",
    "b = lu_b_arr =  np.array([5,6,2], float)\n",
    "luDecomp(a, b)"
   ]
  },
  {
   "cell_type": "markdown",
   "metadata": {
    "id": "2XNU2Kk9a5g3"
   },
   "source": [
    "# L1, L2, L inf Norms #"
   ]
  },
  {
   "cell_type": "code",
   "execution_count": null,
   "metadata": {
    "id": "vBrJebrea_4l"
   },
   "outputs": [],
   "source": [
    "def L1(v1,v2):\n",
    "  v1 = np.array(v1, float)\n",
    "  v2 = np.array(v2, float)\n",
    "  e = max(abs(np.subtract(v1,v2))) #main formula.\n",
    "  return e"
   ]
  },
  {
   "cell_type": "code",
   "execution_count": null,
   "metadata": {
    "id": "oi63Mk0ebEZm"
   },
   "outputs": [],
   "source": [
    "def L2(v_1,v_2):\n",
    "    error = np.array([0,0,0], float)\n",
    "    v_1 = np.array(v_1,float)\n",
    "    v_2 = np.array(v_2, float)\n",
    "    n = len(v_1)\n",
    "    for i in range(n):\n",
    "        error[i] = ((v_1[i] - v_2[i])**2)\n",
    "        sqrt_error = (math.sqrt(np.sum(error))/n) #main formula.\n",
    "    return (sqrt_error)"
   ]
  },
  {
   "cell_type": "code",
   "execution_count": null,
   "metadata": {
    "id": "m4jCDQSebJMd"
   },
   "outputs": [],
   "source": [
    "def l_inf(v1, v2): \n",
    "  v1 = np.array(v1, float)\n",
    "  v2 = np.array(v2, float)\n",
    "  e = max((np.subtract(v1,v2))) #main formula\n",
    "  return e"
   ]
  },
  {
   "cell_type": "markdown",
   "metadata": {
    "id": "0yaFRn2Faq0g"
   },
   "source": [
    "# Jacobi Iterative Solver #"
   ]
  },
  {
   "cell_type": "code",
   "execution_count": null,
   "metadata": {
    "colab": {
     "base_uri": "https://localhost:8080/"
    },
    "id": "HfuLXvX5Zb07",
    "outputId": "2c5fb708-d9b5-43be-cb0b-8237396f791d"
   },
   "outputs": [
    {
     "name": "stdout",
     "output_type": "stream",
     "text": [
      "The solution at the end of  28 iterations is:   [1.9999998954624207, 2.9999993727745253, -1.0000001045375793] \n",
      "\n",
      "The errors for each iterations is:  [2.6666666666666665, 1.3333333333333333, 0.8888888888888888, 0.4444444444444444, 0.2962962962962967, 0.14814814814814836, 0.09876543209876587, 0.049382716049382935, 0.03292181069958833, 0.016460905349794164, 0.01097393689986248, 0.00548696844993124, 0.0036579789666211227, 0.0018289894833105613, 0.001219326322207337, 0.0006096631611036685, 0.0004064421074021496, 0.0002032210537010748, 0.0001354807024669391, 6.774035123346955e-05, 4.51602341557944e-05, 2.25801170778972e-05, 1.505341138541283e-05, 7.526705692706415e-06, 5.0178037946935206e-06, 2.5089018973467603e-06, 1.6726012646017807e-06, 8.363006323008904e-07]\n"
     ]
    }
   ],
   "source": [
    "'''\n",
    "Check for diagonal dominancy before using the Jacobi Iterative Solver.\n",
    "'''\n",
    "\n",
    "def jacobiIterative(arr, b_arr):\n",
    "\n",
    "  n = len(b_arr) # no. of unknowns.\n",
    "\n",
    "  error = 1\n",
    "  error_list = []\n",
    "  error_L2_list = []\n",
    "  error_L1_list = []\n",
    "  tolerance = 10**-6\n",
    "\n",
    "  iteration = 0\n",
    "  \n",
    "  x_old = [0, 0, 0] #guess array\n",
    "  x_new = [0, 0, 0] #initiating the arrays\n",
    "\n",
    "  while error > tolerance: \n",
    "      iteration += 1 #no of iterations needed.\n",
    "\n",
    "      for i in range(0, n): #rows\n",
    "        summation = 0\n",
    "        for j in range(n): #columns\n",
    "          if(i != j):\n",
    "            summation += arr[i, j] * x_old[j]\n",
    "        x_new[i] = ((b_arr[i] - summation) / arr[i, i]) \n",
    "\n",
    "      error = L1(x_new, x_old) #L1 Norm is used.\n",
    "\n",
    "      error_L1_list.append(error)\n",
    "\n",
    "      x_old[:] = x_new[:]\n",
    "\n",
    "  print(\"The solution at the end of \",iteration,\"iterations is:  \", x_new, \"\\n\")\n",
    "  print(\"The errors for each iterations is: \", error_L1_list)\n",
    "\n",
    "a = np.array([[2, -1, 0], [-1, 3, -1], [0, -1, 2]], dtype = float)\n",
    "b = np.array([1, 8, -5], dtype = float)\n",
    "jacobiIterative(a, b)"
   ]
  },
  {
   "cell_type": "markdown",
   "metadata": {
    "id": "xlhHTX6BcjM6"
   },
   "source": [
    "# Gauss Seidel #"
   ]
  },
  {
   "cell_type": "code",
   "execution_count": null,
   "metadata": {
    "colab": {
     "base_uri": "https://localhost:8080/"
    },
    "id": "Sb9xJAB7crh9",
    "outputId": "44321ac7-412f-4ec9-c25d-e565c13d1ca6"
   },
   "outputs": [
    {
     "name": "stdout",
     "output_type": "stream",
     "text": [
      "The solution is  [1.9999995295808943, 2.999999686387263, -1.0000001568063686] \n",
      "\n",
      "The no of iterations it took is:  13 \n",
      "\n",
      "The L1 Norm Error list is:  [2.8333333333333335, 1.4166666666666667, 0.05555555555555558, 0.01851851851851838, 0.006172839506172867, 0.002057613168724437, 0.000685871056241405, 0.00022862368541365363, 7.620789513795856e-05, 2.5402631712800883e-05, 8.467543904266961e-06, 2.8225146346816388e-06, 9.408382115605463e-07]\n"
     ]
    }
   ],
   "source": [
    "def gaussSeidel(g_arr, g_b_arr):\n",
    "\n",
    "  g_n = len(g_b_arr) #no .of unknowns\n",
    "\n",
    "  g_error = 1\n",
    "  g_error_list = []\n",
    "  g_error_L2_list = []\n",
    "  g_error_L1_list = []\n",
    "  g_tolerance = 10**-6\n",
    "\n",
    "  g_iteration = 0\n",
    "\n",
    "  g_x_old = [0, 0, 0] # guess array\n",
    "  g_x_new = [0, 0, 0]\n",
    "\n",
    "  while g_error > g_tolerance:\n",
    "    g_iteration += 1\n",
    "    for i in range(g_n): # rows\n",
    "      summation = 0\n",
    "      for j in range(g_n): # columns\n",
    "        if j < i:\n",
    "          summation += g_arr[i, j] * g_x_new[j]\n",
    "        elif j > i:\n",
    "          summation += g_arr[i, j] * g_x_old[j]\n",
    "    \n",
    "      g_x_new[i] = (g_b_arr[i] - summation) / g_arr[i, i] # adding the values to an array for insertion in next steps\n",
    "\n",
    "    g_error = L1(g_x_new, g_x_old) # L1 Norm is used.\n",
    "\n",
    "    g_error_L1_list.append(g_error)\n",
    "\n",
    "    g_x_old[:] = g_x_new[:] #upadtes the values here to be used for the next iter\n",
    "\n",
    "  print(\"The solution is \", g_x_new, \"\\n\")\n",
    "  print(\"The no of iterations it took is: \", g_iteration, \"\\n\")\n",
    "  print(\"The L1 Norm Error list is: \", g_error_L1_list)\n",
    "\n",
    "a = np.array([[2, -1, 0], [-1, 3, -1], [0, -1, 2]], dtype = float)\n",
    "b = np.array([1, 8, -5], dtype = float)\n",
    "\n",
    "gaussSeidel(a, b)"
   ]
  },
  {
   "cell_type": "markdown",
   "metadata": {
    "id": "y2OBhRBUzV4X"
   },
   "source": [
    "# SOR #"
   ]
  },
  {
   "cell_type": "code",
   "execution_count": null,
   "metadata": {
    "colab": {
     "base_uri": "https://localhost:8080/"
    },
    "id": "GzuIHAxEzUgK",
    "outputId": "b06e8de9-2f29-47d1-dc94-706ddb3186c9"
   },
   "outputs": [
    {
     "name": "stdout",
     "output_type": "stream",
     "text": [
      "[ 1.99999984  2.9999999  -1.00000005]\n"
     ]
    }
   ],
   "source": [
    "'''\n",
    "Xi = lambda*Xi + (1-lambda)*x[i-1]\n",
    "'''\n",
    "\n",
    "def seidelRelax(A, B, Y): # Y is the relaxation factor.\n",
    "  n_var = len(B)\n",
    "\n",
    "  error = 1\n",
    "\n",
    "  X_new = np.array([0,0,0], float)\n",
    "  X_actual = np.array([1,1,1], float)\n",
    "  X_old = np.array([0,0,0], float)\n",
    "  tolerance = 10**-6\n",
    "\n",
    "  M =  np.array([0,0,0], float)\n",
    "\n",
    "  while error > tolerance: # same algo as gauss - seidel\n",
    "\n",
    "      for i in range(n_var): #iter through rows\n",
    "          summ = 0\n",
    "          for j in range(n_var): # columns \n",
    "              if j < i:\n",
    "                summ += A[i,j] * X_new[j]\n",
    "              if j > i:\n",
    "                summ += A[i,j] * X_old[j]\n",
    "                \n",
    "          X_new[i] = ((B[i] - summ)/A[i,i])\n",
    "    \n",
    "      for q in range(n_var):\n",
    "        X_actual[q] = ((Y * X_new[q]) + ((1 - Y) * X_old[q])) #using the relaxation factor.\n",
    "        \n",
    "      for k in range(n_var):\n",
    "        M[k] = X_new[k] - X_old[k] # this is the error matrix\n",
    "    \n",
    "      error = np.linalg.norm(M) # finds the error of the matrix.\n",
    "    \n",
    "      #print(\"this is new X matrix matrix: \\n\",X_new)\n",
    "    \n",
    "    \n",
    "      #print(\"this is relaxation matrix: \\n\",X_actual)\n",
    "      #print(\"this is error using L2 norm: \\n\",error)\n",
    "    \n",
    "      X_old[:] = X_new[:] #updating the old matrix with the updated matrix.\n",
    "  print(X_old)\n",
    "\n",
    "A = np.array([[2, -1, 0],[-1, 3, -1],[0, -1, 2]], float)\n",
    "B = np.array([1, 8, -5], float)\n",
    "\n",
    "seidelRelax(A, B, 0.8)"
   ]
  },
  {
   "cell_type": "markdown",
   "metadata": {
    "id": "ihGa4gKieEVT"
   },
   "source": [
    "# TDMA #"
   ]
  },
  {
   "cell_type": "code",
   "execution_count": null,
   "metadata": {
    "colab": {
     "base_uri": "https://localhost:8080/"
    },
    "id": "7gk67FXMdbu_",
    "outputId": "9aa49cb5-9b88-4122-e7ef-af339c14d6b0"
   },
   "outputs": [
    {
     "name": "stdout",
     "output_type": "stream",
     "text": [
      "Principal Diag is  [10.0, 10.0, 7.0, 4.0] \n",
      "\n",
      "Upper Diag is  [2.0, 4.0, 5.0] \n",
      "\n",
      "Lowerl Diag is  [3.0, 1.0, 3.0] \n",
      "\n",
      "The solution is  [0.1487758945386064, 0.756120527306968, -1.001883239171375, 2.2514124293785316]\n"
     ]
    }
   ],
   "source": [
    "def tdma(arr, b_arr):\n",
    "  n = len(arr)\n",
    "\n",
    "  c_arr = [] #upper diag\n",
    "  d_arr = [] #center diag\n",
    "  a_arr = [] #lower diag\n",
    "\n",
    "  for i in range(1, n): # gets just the values of the upper diagonal.\n",
    "    c_arr.append(arr[i-1, i])\n",
    "\n",
    "  for i in range(n): #gets the values of the principal diagonal.\n",
    "    d_arr.append(arr[i, i])\n",
    "\n",
    "  for i in range(1, n): #gets the values of the lower diagonal.\n",
    "    a_arr.append(arr[i, i-1])\n",
    "  \n",
    "  print(\"Principal Diag is \", d_arr, \"\\n\")\n",
    "  print(\"Upper Diag is \", c_arr, \"\\n\")\n",
    "  print(\"Lowerl Diag is \", a_arr, \"\\n\")\n",
    "\n",
    "\n",
    "  for i in range(1, n):\n",
    "    factor = a_arr[i-1] / d_arr[i-1] #multiplication factor.\n",
    "    d_arr[i] = d_arr[i] - c_arr[i-1]*factor #changing the principal diagonal values.\n",
    "    b_arr[i] = b_arr[i] - b_arr[i-1]*factor #changing the rhs.\n",
    "\n",
    "#backward sub\n",
    "\n",
    "  d_arr[-1] = b_arr[-1] / d_arr[-1] #getting the last variable's value.\n",
    "\n",
    "  for i in range(n-2, -1, -1):\n",
    "# (n-2) because we need the last but one row and that when zero indentation is used becomes n-2,\n",
    "#-1 then is used because, range function would stop on the second row, to make it include the first row as well. would stop at 1, so -1 (1+(-1) = 0)\n",
    "# then -1 step is used because decreasing.\n",
    "    d_arr[i] = (b_arr[i]- c_arr[i]*d_arr[i+1]) / d_arr[i]\n",
    "\n",
    "  print(\"The solution is \", d_arr) \n",
    "\n",
    "arr = np.array([[10,2,0,0],\n",
    "                [3,10,4,0],\n",
    "                [0,1,7,5],\n",
    "                [0,0,3, 4]], float)\n",
    "\n",
    "b_arr = np.array([3, 4, 5, 6], float)\n",
    "\n",
    "tdma(arr, b_arr)"
   ]
  },
  {
   "cell_type": "markdown",
   "metadata": {
    "id": "VuFHMKSbeIBw"
   },
   "source": [
    "# BISECTION METHOD #\n",
    "Change the f(x) in the function."
   ]
  },
  {
   "cell_type": "code",
   "execution_count": null,
   "metadata": {
    "colab": {
     "base_uri": "https://localhost:8080/"
    },
    "id": "pLixb7xwezBF",
    "outputId": "75bdabcc-8915-411a-f65a-3b012aa9b881"
   },
   "outputs": [
    {
     "name": "stdout",
     "output_type": "stream",
     "text": [
      "The root is  0.02896795654296875\n",
      "No of iterations are  17\n",
      "The error is  5.493164062508882e-07\n"
     ]
    }
   ],
   "source": [
    "'''\n",
    "check for f(a)*f(b) < 0\n",
    "'''\n",
    "\n",
    "def bisection(a, b):\n",
    "\n",
    "  error = 1 #initiating the error\n",
    "\n",
    "  root_old = 0 #root initiation\n",
    "\n",
    "  def f(x):\n",
    "    return (1/math.sqrt(x)) + 2.0*math.log10(((0.0015*10**-3 )/ (3.7*0.005)) + ((2.51) / (13743*math.sqrt(x))))  #to be changed accordingly.\n",
    "\n",
    "  tolerance = 10**-6\n",
    "  iteration = 0\n",
    "\n",
    "  while error > tolerance:\n",
    "    iteration += 1\n",
    "    root = float((a + b)/ 2) # c is found using (a+b)*0.5\n",
    "    f(a), f(b), f(root)\n",
    "    error = abs(root - root_old) #L1\n",
    "\n",
    "    if f(a)*f(root) < 0: \n",
    "      b = root\n",
    "    elif f(b)*f(root) < 0:\n",
    "      a = root\n",
    "    elif f(root) == 0: # c is the root\n",
    "      break\n",
    "    root_old = root #updating the root\n",
    "\n",
    "  print(\"The root is \", root)\n",
    "  print(\"No of iterations are \", iteration)\n",
    "  print(\"The error is \", error)\n",
    "\n",
    "bisection(0.008, 0.08)"
   ]
  },
  {
   "cell_type": "markdown",
   "metadata": {
    "id": "mGCGnQEkgXIr"
   },
   "source": [
    "# Newton Raphson Method #\n",
    "Change the f(x) and the df(x) accordingly)"
   ]
  },
  {
   "cell_type": "code",
   "execution_count": null,
   "metadata": {
    "colab": {
     "base_uri": "https://localhost:8080/"
    },
    "id": "10B0imh-fdOE",
    "outputId": "6054d627-e89c-426f-aa9a-6f48d7665943"
   },
   "outputs": [
    {
     "name": "stdout",
     "output_type": "stream",
     "text": [
      "The roor is  0.02896779081839023\n",
      "No. of iterations  5\n",
      "Error is  1.7718698762034246e-07\n"
     ]
    }
   ],
   "source": [
    "def newtonRaphson(x):\n",
    "\n",
    "  def f(x):\n",
    "    return (1/math.sqrt(x)) + 2.0*math.log10(((0.0015*10**-3 )/ (3.7*0.005)) + ((2.51)/ (13743*math.sqrt(x)))) # Change this accordingly\n",
    "  def df(x):\n",
    "    return -((2.75254*(x**(1/2)) + 1.12627)/(2.25254*(x**(3/2)) + (x**2))) # change this accordingly\n",
    "\n",
    "  iteration = 0\n",
    "  error = 1\n",
    "  tolerance = 10**-6\n",
    "\n",
    "  while error > tolerance:\n",
    "    iteration += 1\n",
    "    x_new = x - (f(x)/df(x)) #newton pahson formula \n",
    "    error = abs(x_new-x) # L INF Norm\n",
    "    x = x_new #updating the root\n",
    "\n",
    "  print(\"The roor is \", x)\n",
    "  print(\"No. of iterations \", iteration)\n",
    "  print(\"Error is \", error)\n",
    "\n",
    "newtonRaphson(0.028420351812180448)"
   ]
  },
  {
   "cell_type": "markdown",
   "metadata": {
    "id": "dPnnn9rX535o"
   },
   "source": [
    "# Linear Interpolation #"
   ]
  },
  {
   "cell_type": "code",
   "execution_count": null,
   "metadata": {
    "colab": {
     "base_uri": "https://localhost:8080/"
    },
    "id": "SQ9F8UiP567w",
    "outputId": "46344a79-0cbc-44ca-e1ab-46a653fbbb68"
   },
   "outputs": [
    {
     "name": "stdout",
     "output_type": "stream",
     "text": [
      "The Natural Log of 2 using Linear Interpolation is  0.46209812037329684\n"
     ]
    }
   ],
   "source": [
    "#Linear Interpolation.\n",
    "def linearInterpolation(arr_x, arr_y, x): # x will be 2 because we need ln(2)\n",
    "# x is where the ans if to be found.\n",
    "\n",
    "  b0 = arr_y[0]\n",
    "  b1 = (arr_y[-1] - arr_y[0]) / (arr_x[-1] - arr_x[0]) #calculating the b1 or the slope.\n",
    "\n",
    "  print(\"The Natural Log of 2 using Linear Interpolation is \",b0 + b1*(x - arr_x[0]))\n",
    "\n",
    "log_1 = np.log(1)\n",
    "log_4 = np.log(4)\n",
    "log_6 = np.log(6)\n",
    "\n",
    "arr_x = [1, 4]\n",
    "arr_y = [log_1, log_4]\n",
    "\n",
    "linearInterpolation(arr_x, arr_y, 2)"
   ]
  },
  {
   "cell_type": "markdown",
   "metadata": {
    "id": "YdFBPtPd62nS"
   },
   "source": [
    "# Quadratic Interpolation #"
   ]
  },
  {
   "cell_type": "code",
   "execution_count": null,
   "metadata": {
    "colab": {
     "base_uri": "https://localhost:8080/"
    },
    "id": "fehfKf7l65VA",
    "outputId": "d597c950-a45d-4389-c8e7-54e052f919d0"
   },
   "outputs": [
    {
     "name": "stdout",
     "output_type": "stream",
     "text": [
      "The value of Natural Log of 2 using Quad Interpolation is  0.5658443469009827\n"
     ]
    }
   ],
   "source": [
    "def quad_interpolation(arr_x_1, arr_y_1, x1): #x1 is where the ans if to be found.\n",
    "  b0 = arr_y_1[0]\n",
    "  \n",
    "  b1 = (arr_y_1[1] - arr_y_1[0]) / (arr_x_1[1] - arr_x_1[0])\n",
    "\n",
    "  b2 = ((arr_y_1[2] - arr_y_1[1]) / (arr_x_1[2] - arr_x_1[1]) - b1) / (arr_x_1[2] - arr_x_1[0]) #calculating the b2 \n",
    "\n",
    "  print(\"The value of Natural Log of 2 using Quad Interpolation is \", b0 + (b1*(x1 - arr_x_1[0])) + (b2*(x1 - arr_x_1[0])*(x1-arr_x_1[1])))\n",
    "\n",
    "\n",
    "log_1 = np.log(1)\n",
    "log_4 = np.log(4)\n",
    "log_6 = np.log(6)\n",
    "\n",
    "arr_x_1 = [1, 4, 6]\n",
    "arr_y_1 = [log_1, log_4, log_6]\n",
    "quad_interpolation(arr_x_1, arr_y_1, 2)"
   ]
  },
  {
   "cell_type": "markdown",
   "metadata": {
    "id": "yjlIN867ivwv"
   },
   "source": [
    "# Multiple Variable Linear Regression #"
   ]
  },
  {
   "cell_type": "code",
   "execution_count": null,
   "metadata": {
    "colab": {
     "base_uri": "https://localhost:8080/"
    },
    "id": "mcvv58MBi1E0",
    "outputId": "d633ef21-adee-485a-e96d-5808ce897c93"
   },
   "outputs": [
    {
     "name": "stdout",
     "output_type": "stream",
     "text": [
      "[[1.9000e+01 1.0450e+03 1.0450e+02]\n",
      " [1.0450e+03 7.1725e+04 4.3225e+03]\n",
      " [1.0450e+02 4.3225e+03 7.1725e+02]] \n",
      "\n",
      "[  72542.25  5537148.75   244249.875] \n",
      "\n",
      "The eqn is  -1233.5490851151308 + 100.21539838142942  * x1  +  -83.6881214488638  * x2 \n",
      "\n"
     ]
    }
   ],
   "source": [
    "def multiLinReg(x1, x2, y):\n",
    "  n = len(x1)\n",
    "  sum_x1 = np.sum(x1)\n",
    "  sum_x2 = np.sum(x2)\n",
    "  sum_y = np.sum(y)\n",
    "  sum_x1_sq = np.sum(np.square(x1))\n",
    "  sum_x2_sq = np.sum(np.square(x2))\n",
    "  sum_x1_x2 = np.sum(np.multiply(x1, x2))\n",
    "  sum_x1_y = np.sum(np.multiply(x1, y))\n",
    "  sum_x2_y = np.sum(np.multiply(x2, y))\n",
    "\n",
    "  matrix_a = np.array([[n, sum_x1, sum_x2],[sum_x1, sum_x1_sq, sum_x1_x2],[sum_x2, sum_x1_x2, sum_x2_sq]], float)\n",
    "  matrix_b = np.array([sum_y, sum_x1_y, sum_x2_y])\n",
    "  print(matrix_a, \"\\n\") # Solve this and \n",
    "  print(matrix_b, \"\\n\") # this matrix using Gauss Elimation or LU Decomp\n",
    "  a0, a1, a2 = (np.linalg.solve(matrix_a, matrix_b))\n",
    "  print(\"The eqn is \", a0, \"+\",a1,\" * x1\",\" + \", a2,\" * x2\", \"\\n\")\n",
    "\n",
    "  # solve using gauss elimation, lu decomp, gauss seider or jacobi iterative\n",
    "\n",
    "x1 = np.array([10,15,20,25,30,35,40,45,50,55,60,65,70,75,80,85,90,95,100], float)\n",
    "x2 = np.array([10,9.5,9,8.5,8,7.5,7,6.5,6,5.5,5,4.5,4,3.5,3,2.5,2,1.5,1], float)\n",
    "y = np.array([300,315.25,481,697.25,964,1281.25,1649,2067.25,2536,3055.25,3625,4245.25,4916,5637.25,6409,7231.25,8104,9027.25,10001])\n",
    "\n",
    "multiLinReg(x1, x2, y)"
   ]
  },
  {
   "cell_type": "markdown",
   "metadata": {
    "id": "9JpBflI6Bs7s"
   },
   "source": [
    "# 2ND ORDER CURVE FIT #"
   ]
  },
  {
   "cell_type": "code",
   "execution_count": null,
   "metadata": {
    "colab": {
     "base_uri": "https://localhost:8080/"
    },
    "id": "lJptFkaWBxuJ",
    "outputId": "a3f241d3-3915-41ad-dbec-e30f90bd91d8"
   },
   "outputs": [
    {
     "name": "stdout",
     "output_type": "stream",
     "text": [
      "[2.47857143 2.35928571 1.86071429]\n"
     ]
    }
   ],
   "source": [
    "def secondOrderCurveFit(x, y):\n",
    "  n = len(x)\n",
    "  sum_x = np.sum(x)\n",
    "  sum_x_2 = np.sum(np.square(x))\n",
    "  sum_x_3 = np.sum(x**3)\n",
    "  sum_x_4 = np.sum(x**4)\n",
    "\n",
    "  sum_y = np.sum(y)\n",
    "  sum_x_y = np.sum(x*y)\n",
    "  sum_x2_y = np.sum((x**2)*y)\n",
    "\n",
    "  a_matrix = np.array([[n, sum_x, sum_x_2],[sum_x, sum_x_2, sum_x_3],[sum_x_2, sum_x_3, sum_x_4]], float)\n",
    "  b_matrix = np.array([sum_y, sum_x_y, sum_x2_y])\n",
    "\n",
    "  print(np.linalg.solve(a_matrix, b_matrix))\n",
    "\n",
    "x = np.array([0, 1, 2, 3, 4, 5], float)\n",
    "y = np.array([2.1, 7.7, 13.6, 27.2, 40.9, 61.1])\n",
    "secondOrderCurveFit(x, y)"
   ]
  },
  {
   "cell_type": "markdown",
   "metadata": {
    "id": "JmWoY8mx7SqZ"
   },
   "source": [
    "# 3RD ORDER NON LINEAR CURVE FIT POLYNOMIAL #"
   ]
  },
  {
   "cell_type": "code",
   "execution_count": null,
   "metadata": {
    "colab": {
     "base_uri": "https://localhost:8080/"
    },
    "id": "8mtIhE1G7ctg",
    "outputId": "dbccd805-33de-4951-a201-fafb33e152be"
   },
   "outputs": [
    {
     "name": "stdout",
     "output_type": "stream",
     "text": [
      "The coefficients are  [2.25079365 3.3994709  1.29126984 0.07592593]\n"
     ]
    }
   ],
   "source": [
    "def thirdNonLinCurveFit(x, y): #x and y are the arrays\n",
    "  n = len(x)\n",
    "  sum_x = np.sum(x)\n",
    "  sum_x_2 = np.sum(np.square(x))\n",
    "  sum_x_3 = np.sum(x**3)\n",
    "  sum_x_4 = np.sum(x**4)\n",
    "  sum_x_5 = np.sum(x**5)\n",
    "  sum_x_6 = np.sum(x**6) # till here are the A matrix components.\n",
    "\n",
    "  sum_y = np.sum(y)\n",
    "\n",
    "  sum_x_y = np.sum(x*y)\n",
    "  sum_x2_y = np.sum((x**2)*y)\n",
    "  sum_x3_y = np.sum((x**3)*y) #these are the b matrix components\n",
    "\n",
    "  a_matrix = np.array([[n, sum_x, sum_x_2, sum_x_3],[sum_x, sum_x_2, sum_x_3, sum_x_4],[sum_x_2, sum_x_3, sum_x_4, sum_x_5],[sum_x_3, sum_x_4, sum_x_5, sum_x_6]], float)\n",
    "  b_matrix = np.array([sum_y, sum_x_y, sum_x2_y, sum_x3_y])\n",
    "\n",
    "  print(\"The coefficients are \", np.linalg.solve(a_matrix, b_matrix))\n",
    "\n",
    "  # The first element is the constant, then x coeff and then xsquare coeeficient\n",
    "\n",
    "\n",
    "x = np.array([0, 1, 2, 3, 4, 5], float)\n",
    "y = np.array([2.1, 7.7, 13.6, 27.2, 40.9, 61.1])\n",
    "thirdNonLinCurveFit(x, y)"
   ]
  },
  {
   "cell_type": "markdown",
   "metadata": {
    "id": "8nCfKbCSlDJq"
   },
   "source": [
    "# Interpolation, NDD, Lagrange Polynomial Have to do. #"
   ]
  },
  {
   "cell_type": "markdown",
   "metadata": {
    "id": "55pnJUOwlUim"
   },
   "source": [
    "# Euler Integration #\n",
    "\n",
    "change the ODE and the y accordingly"
   ]
  },
  {
   "cell_type": "code",
   "execution_count": null,
   "metadata": {
    "colab": {
     "base_uri": "https://localhost:8080/"
    },
    "id": "mPFR_jyRlsGp",
    "outputId": "c7bec44a-30b9-474c-e2ef-f2fa07815722"
   },
   "outputs": [
    {
     "name": "stdout",
     "output_type": "stream",
     "text": [
      "The true value at 0.5 is 3.7515213032808568 and the computed value is  3.5\n",
      "Error is  0.25152130328085676 \n",
      "\n",
      "The true value at 1.0 is 6.194631377209372 and the computed value is  5.608649395282541\n",
      "Error is  0.5859819819268317 \n",
      "\n",
      "The true value at 1.5 is 9.707041936237516 and the computed value is  8.65756890344684\n",
      "Error is  1.0494730327906758 \n",
      "\n",
      "The true value at 2.0 is 14.84392190764649 and the computed value is  13.133410523058227\n",
      "Error is  1.710511384588262 \n",
      "\n",
      "The answer is:  13.133410523058227 \n",
      "\n",
      "The True Value is 14.84392190764649 at 2.0\n"
     ]
    }
   ],
   "source": [
    "def eulerIntegration(x, y, h, x_range): # 1st Order Accurate\n",
    "  no_iter = int(x_range[1] / h)\n",
    "\n",
    "  def func(x, y): #ODE\n",
    "    return (4*(math.exp(0.8*x))) - (0.5*y) # ODE.\n",
    "\n",
    "  def integ_func(x, y): # y eqn\n",
    "    return (4 / 1.3)*((math.exp(0.8*x)) - (math.exp(-0.5*x))) + (2 * math.exp(-0.5*x))\n",
    "\n",
    "  for i in range(no_iter):\n",
    "\n",
    "    y = y + func(x, y) * h # Euler Eqn and updating the y value to be used for the enxt iteration\n",
    "    x += h # increment by the step size\n",
    "    error = integ_func(x, y) - y # Actual - Computed\n",
    "\n",
    "    print(\"The true value at\", x, \"is\", integ_func(x, y),\"and the computed value is \", y)\n",
    "    print(\"Error is \", error,\"\\n\")\n",
    "\n",
    "  print(\"The answer is: \", y, \"\\n\")\n",
    "  print(\"The True Value is\", integ_func(x, y), \"at\", x)\n",
    "\n",
    "\n",
    "x_range = [0, 2]\n",
    "x = 0\n",
    "y = 2\n",
    "h = 0.5\n",
    "eulerIntegration(x, y, h, x_range)"
   ]
  },
  {
   "cell_type": "markdown",
   "metadata": {
    "id": "Aed_76rQp84Q"
   },
   "source": [
    "# RK 2, Heun's Method #\n",
    "change the ODE and the y accordingly"
   ]
  },
  {
   "cell_type": "code",
   "execution_count": null,
   "metadata": {
    "colab": {
     "base_uri": "https://localhost:8080/"
    },
    "id": "l7EA5lAip_9k",
    "outputId": "8596e00e-e714-47bf-8619-b0e48c97a8d0"
   },
   "outputs": [
    {
     "name": "stdout",
     "output_type": "stream",
     "text": [
      "K1 is  3.0\n",
      "K2 is 4.217298790565081\n",
      "Exact Val is 3.7515213032808568\n",
      "Y Value for the iteration is  3.8043246976412703\n",
      "Error is  -0.05280339436041359 \n",
      "\n",
      "K1 is  4.065136441744446\n",
      "K2 is 5.983717254713125\n",
      "Exact Val is 6.194631377209372\n",
      "Y Value for the iteration is  6.316538121755663\n",
      "Error is  -0.12190674454629047 \n",
      "\n",
      "K1 is  5.74389465309204\n",
      "K2 is 8.68622496679535\n",
      "Exact Val is 9.707041936237516\n",
      "Y Value for the iteration is  9.924068026727511\n",
      "Error is  -0.21702609048999477 \n",
      "\n",
      "K1 is  8.318433677582437\n",
      "K2 is 12.770487264821096\n",
      "Exact Val is 14.84392190764649\n",
      "Y Value for the iteration is  15.196298262328394\n",
      "Error is  -0.35237635468190476 \n",
      "\n",
      "Final Y Value is 15.196298262328394\n"
     ]
    }
   ],
   "source": [
    "def rk2(x, y, h, x_range):\n",
    "\n",
    "  def func(x, y): #ODE\n",
    "    return 4*math.exp(0.8*x) - 0.5*y\n",
    "\n",
    "  def exact(x, y): # exact or y eqn\n",
    "    return (4 / 1.3)*((math.exp(0.8*x)) - (math.exp(-0.5*x))) + (2 * math.exp(-0.5*x))\n",
    "\n",
    "  iter = int(x_range[1]/h)\n",
    "\n",
    "  for i in range(iter):\n",
    "    k1 = func(x, y)\n",
    "    k2 = func(x + h, (y + k1*h))\n",
    "    exact_value = exact(x+h, y)\n",
    "\n",
    "    print(\"K1 is \", k1)\n",
    "    print(\"K2 is\", k2)\n",
    "\n",
    "    y = y + ((h/2) * (k1 + k2)) #RK 2 Formula \n",
    "\n",
    "    print(\"Exact Val is\", exact_value)\n",
    "    print(\"Y Value for the iteration is \", y)\n",
    "    print(\"Error is \", exact_value - y, \"\\n\")\n",
    "    \n",
    "    x += h #step size is increased after each iteration\n",
    "\n",
    "  print(\"Final Y Value is\", y)\n",
    "\n",
    "x_range = [0, 2]\n",
    "x = 0\n",
    "y = 2\n",
    "h = 0.5\n",
    "\n",
    "rk2(x, y, h, x_range)"
   ]
  },
  {
   "cell_type": "markdown",
   "metadata": {
    "id": "BGfIda494EVE"
   },
   "source": [
    "# RK 4 #\n",
    "change the ODE and the y accordingly"
   ]
  },
  {
   "cell_type": "code",
   "execution_count": null,
   "metadata": {
    "colab": {
     "base_uri": "https://localhost:8080/"
    },
    "id": "27euiGAt4G2t",
    "outputId": "7dcc05f9-a1e1-49d7-ba5f-bcb1e24d259d"
   },
   "outputs": [
    {
     "name": "stdout",
     "output_type": "stream",
     "text": [
      "K1 is 3.0  \n",
      "K2 is  3.5106110326406794 \n",
      "K3 is 3.4467846535605946 \n",
      "K4 is  4.105602627174933\n",
      "Exact Value is  3.7515213032808568\n",
      "Y Value for the iteration is  3.75169949996479\n",
      "Error is  -0.0001781966839331517 \n",
      "\n",
      "K1 is 4.091449040582686  \n",
      "K2 is  4.9011943215068055 \n",
      "K3 is 4.799976161391291 \n",
      "K4 is  5.8263199236396535\n",
      "Exact Value is  6.194631377209372\n",
      "Y Value for the iteration is  6.195041994133001\n",
      "Error is  -0.00041061692362820423 \n",
      "\n",
      "K1 is 5.804642716903372  \n",
      "K2 is  7.050025977156759 \n",
      "K3 is 6.894353069625085 \n",
      "K4 is  8.459358426473422\n",
      "Exact Value is  9.707041936237516\n",
      "Y Value for the iteration is  9.707771930544707\n",
      "Error is  -0.0007299943071910064 \n",
      "\n",
      "K1 is 8.426581725673838  \n",
      "K2 is  10.313591186397119 \n",
      "K3 is 10.07771500380671 \n",
      "K4 is  12.43881498135643\n",
      "Exact Value is  14.84392190764649\n",
      "Y Value for the iteration is  14.845106021164534\n",
      "Error is  -0.001184113518045038 \n",
      "\n",
      "The final answer is:  14.845106021164534\n"
     ]
    }
   ],
   "source": [
    "x_range = [0, 2]\n",
    "x = 0\n",
    "y = 2\n",
    "h = 0.5\n",
    "\n",
    "def rk4(x, y, h, x_range):\n",
    "\n",
    "  def func(x, y): #ODE\n",
    "    return 4*math.exp(0.8*x) - 0.5*y\n",
    "    \n",
    "  def exact(x, y): # exact or y eqn\n",
    "    return (4 / 1.3)*((math.exp(0.8*x)) - (math.exp(-0.5*x))) + (2 * math.exp(-0.5*x))\n",
    "\n",
    "  iter = int(x_range[1] / h)\n",
    "\n",
    "  for i in range(iter):\n",
    "\n",
    "    k1 = func(x, y)\n",
    "    k2 = func((x+h/2), (y + k1*(h/2)))\n",
    "    k3 = func((x+h/2), (y + k2*(h/2)))\n",
    "    k4 = func((x+h), (y + k3*h))\n",
    "\n",
    "    exact_value = exact(x+h , y)\n",
    "\n",
    "    print(\"K1 is\", k1,\" \\nK2 is \", k2,\"\\nK3 is\", k3,\"\\nK4 is \",k4)\n",
    "\n",
    "    y = y + ((h/6)*(k1 + 2*k2 + 2*k3 + k4)) #RK 4 Formula\n",
    "\n",
    "    print(\"Exact Value is \", exact_value)\n",
    "    print(\"Y Value for the iteration is \", y)\n",
    "    print(\"Error is \", exact_value - y, \"\\n\")\n",
    "\n",
    "    x += h #step size is increased after each iteration\n",
    "\n",
    "  print(\"The final answer is: \", y)\n",
    "\n",
    "x_range = [0, 2]\n",
    "x = 0\n",
    "y = 2\n",
    "h = 0.5\n",
    "rk4(x, y, h, x_range)"
   ]
  }
 ],
 "metadata": {
  "colab": {
   "collapsed_sections": [
    "GTk4gxS2YLT7",
    "1pOp9XyPYQ66",
    "2XNU2Kk9a5g3",
    "0yaFRn2Faq0g",
    "xlhHTX6BcjM6",
    "y2OBhRBUzV4X",
    "ihGa4gKieEVT",
    "VuFHMKSbeIBw",
    "mGCGnQEkgXIr",
    "dPnnn9rX535o",
    "YdFBPtPd62nS",
    "yjlIN867ivwv",
    "JmWoY8mx7SqZ",
    "55pnJUOwlUim",
    "Aed_76rQp84Q",
    "BGfIda494EVE"
   ],
   "name": "All Functions.ipynb",
   "provenance": []
  },
  "kernelspec": {
   "display_name": "Python 3 (ipykernel)",
   "language": "python",
   "name": "python3"
  },
  "language_info": {
   "codemirror_mode": {
    "name": "ipython",
    "version": 3
   },
   "file_extension": ".py",
   "mimetype": "text/x-python",
   "name": "python",
   "nbconvert_exporter": "python",
   "pygments_lexer": "ipython3",
   "version": "3.11.5"
  }
 },
 "nbformat": 4,
 "nbformat_minor": 1
}
